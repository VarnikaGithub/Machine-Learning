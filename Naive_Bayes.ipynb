{
  "cells": [
    {
      "cell_type": "markdown",
      "id": "7a77accc",
      "metadata": {
        "id": "7a77accc"
      },
      "source": [
        "# Lab 5: Naive Bayes classification analysis on Default of Credit Card Clients Dataset"
      ]
    },
    {
      "cell_type": "markdown",
      "id": "e486129c",
      "metadata": {
        "id": "e486129c"
      },
      "source": [
        "## Introduction:\n"
      ]
    },
    {
      "cell_type": "markdown",
      "id": "1c7daacd",
      "metadata": {
        "id": "1c7daacd"
      },
      "source": [
        "### Naive Bayes algorithm can be defined as a supervised classification algorithm which is based on Bayes theorem with an assumption of independence among features."
      ]
    },
    {
      "cell_type": "markdown",
      "id": "0ea7d90f",
      "metadata": {
        "id": "0ea7d90f"
      },
      "source": [
        "## Data Description:"
      ]
    },
    {
      "cell_type": "code",
      "execution_count": null,
      "id": "1ca6be9d",
      "metadata": {
        "id": "1ca6be9d"
      },
      "outputs": [],
      "source": [
        "# LIMIT_BAL: Amount of given credit in NT dollars (includes individual and family/supplementary credit\n",
        "#SEX: Gender (0=male, 1=female)\n",
        "#EDUCATION: (0=graduate , 1=under graduate)\n",
        "#MARRIAGE: Marital status (0=married, 1=single)\n",
        "#AGE: Age in years\n",
        "#PAY_0: Repayment status in September, 2005\n",
        "#PAY_2: Repayment status in August, 2005\n",
        "#BILL_AMT1: Amount of bill statement in September, 2005 (NT dollar)\n",
        "#BILL_AMT2: Amount of bill statement in August, 2005 (NT dollar)\n",
        "#default.payment.next.month: Default payment (1=yes, 0=no)"
      ]
    },
    {
      "cell_type": "markdown",
      "id": "6c0ea4b5",
      "metadata": {
        "id": "6c0ea4b5"
      },
      "source": [
        "# Objective:"
      ]
    },
    {
      "cell_type": "markdown",
      "id": "af00b314",
      "metadata": {
        "id": "af00b314"
      },
      "source": [
        "## The objective is to determine predict default of credit card clients using naive Bayes algorithm."
      ]
    },
    {
      "cell_type": "markdown",
      "id": "f53b808d",
      "metadata": {
        "id": "f53b808d"
      },
      "source": [
        "# Importing the libraries"
      ]
    },
    {
      "cell_type": "code",
      "execution_count": null,
      "id": "16a01d67",
      "metadata": {
        "id": "16a01d67"
      },
      "outputs": [],
      "source": [
        "\n",
        "import numpy as np\n",
        "import matplotlib.pyplot as plt\n",
        "import pandas as pd\n",
        "from sklearn.preprocessing import LabelEncoder\n",
        "from sklearn.model_selection import train_test_split\n",
        "from sklearn.metrics import confusion_matrix\n",
        "from sklearn.metrics import accuracy_score\n",
        "\n",
        "from sklearn.model_selection import train_test_split # for splitting the data into train and test samples\n",
        "from sklearn.metrics import classification_report # for model evaluation metrics\n",
        "from sklearn.preprocessing import OrdinalEncoder # for encoding categoricalfeatures from strings to number arrays\n",
        "import plotly.express as px # for data visualization\n",
        "import plotly.graph_objects as go # for data visualization\n",
        "# Differnt types of Naive Bayes Classifiers\n",
        "from sklearn.naive_bayes import GaussianNB\n",
        "from sklearn.naive_bayes import CategoricalNB\n",
        "from sklearn.naive_bayes import BernoulliNB"
      ]
    },
    {
      "cell_type": "markdown",
      "id": "367314d9",
      "metadata": {
        "id": "367314d9"
      },
      "source": [
        "# Importing data set"
      ]
    },
    {
      "cell_type": "code",
      "execution_count": null,
      "id": "8e004635",
      "metadata": {
        "id": "8e004635",
        "outputId": "b9c82330-94e0-470d-a4f8-4f7f93cc0ff7"
      },
      "outputs": [
        {
          "data": {
            "text/html": [
              "<div>\n",
              "<style scoped>\n",
              "    .dataframe tbody tr th:only-of-type {\n",
              "        vertical-align: middle;\n",
              "    }\n",
              "\n",
              "    .dataframe tbody tr th {\n",
              "        vertical-align: top;\n",
              "    }\n",
              "\n",
              "    .dataframe thead th {\n",
              "        text-align: right;\n",
              "    }\n",
              "</style>\n",
              "<table border=\"1\" class=\"dataframe\">\n",
              "  <thead>\n",
              "    <tr style=\"text-align: right;\">\n",
              "      <th></th>\n",
              "      <th>LIMIT_BAL</th>\n",
              "      <th>SEX</th>\n",
              "      <th>MARRIAGE</th>\n",
              "      <th>AGE</th>\n",
              "      <th>PAY_0</th>\n",
              "      <th>PAY_1</th>\n",
              "      <th>BILL_AMT1</th>\n",
              "      <th>BILL_AMT2</th>\n",
              "      <th>default_payment_next_month</th>\n",
              "    </tr>\n",
              "  </thead>\n",
              "  <tbody>\n",
              "    <tr>\n",
              "      <th>0</th>\n",
              "      <td>160000</td>\n",
              "      <td>0</td>\n",
              "      <td>0</td>\n",
              "      <td>50</td>\n",
              "      <td>0</td>\n",
              "      <td>1</td>\n",
              "      <td>3</td>\n",
              "      <td>3</td>\n",
              "      <td>0</td>\n",
              "    </tr>\n",
              "    <tr>\n",
              "      <th>1</th>\n",
              "      <td>150000</td>\n",
              "      <td>0</td>\n",
              "      <td>0</td>\n",
              "      <td>27</td>\n",
              "      <td>1</td>\n",
              "      <td>1</td>\n",
              "      <td>222</td>\n",
              "      <td>3</td>\n",
              "      <td>0</td>\n",
              "    </tr>\n",
              "    <tr>\n",
              "      <th>2</th>\n",
              "      <td>60000</td>\n",
              "      <td>0</td>\n",
              "      <td>0</td>\n",
              "      <td>27</td>\n",
              "      <td>1</td>\n",
              "      <td>1</td>\n",
              "      <td>1130</td>\n",
              "      <td>7</td>\n",
              "      <td>0</td>\n",
              "    </tr>\n",
              "    <tr>\n",
              "      <th>3</th>\n",
              "      <td>220000</td>\n",
              "      <td>1</td>\n",
              "      <td>0</td>\n",
              "      <td>27</td>\n",
              "      <td>0</td>\n",
              "      <td>0</td>\n",
              "      <td>34686</td>\n",
              "      <td>8</td>\n",
              "      <td>0</td>\n",
              "    </tr>\n",
              "    <tr>\n",
              "      <th>4</th>\n",
              "      <td>400000</td>\n",
              "      <td>0</td>\n",
              "      <td>1</td>\n",
              "      <td>41</td>\n",
              "      <td>0</td>\n",
              "      <td>1</td>\n",
              "      <td>104083</td>\n",
              "      <td>8</td>\n",
              "      <td>0</td>\n",
              "    </tr>\n",
              "    <tr>\n",
              "      <th>...</th>\n",
              "      <td>...</td>\n",
              "      <td>...</td>\n",
              "      <td>...</td>\n",
              "      <td>...</td>\n",
              "      <td>...</td>\n",
              "      <td>...</td>\n",
              "      <td>...</td>\n",
              "      <td>...</td>\n",
              "      <td>...</td>\n",
              "    </tr>\n",
              "    <tr>\n",
              "      <th>26012</th>\n",
              "      <td>610000</td>\n",
              "      <td>0</td>\n",
              "      <td>0</td>\n",
              "      <td>38</td>\n",
              "      <td>0</td>\n",
              "      <td>0</td>\n",
              "      <td>608594</td>\n",
              "      <td>624475</td>\n",
              "      <td>0</td>\n",
              "    </tr>\n",
              "    <tr>\n",
              "      <th>26013</th>\n",
              "      <td>590000</td>\n",
              "      <td>1</td>\n",
              "      <td>1</td>\n",
              "      <td>63</td>\n",
              "      <td>0</td>\n",
              "      <td>0</td>\n",
              "      <td>630458</td>\n",
              "      <td>646770</td>\n",
              "      <td>0</td>\n",
              "    </tr>\n",
              "    <tr>\n",
              "      <th>26014</th>\n",
              "      <td>520000</td>\n",
              "      <td>0</td>\n",
              "      <td>1</td>\n",
              "      <td>54</td>\n",
              "      <td>0</td>\n",
              "      <td>0</td>\n",
              "      <td>653062</td>\n",
              "      <td>671563</td>\n",
              "      <td>0</td>\n",
              "    </tr>\n",
              "    <tr>\n",
              "      <th>26015</th>\n",
              "      <td>440000</td>\n",
              "      <td>0</td>\n",
              "      <td>0</td>\n",
              "      <td>39</td>\n",
              "      <td>0</td>\n",
              "      <td>0</td>\n",
              "      <td>431557</td>\n",
              "      <td>743970</td>\n",
              "      <td>0</td>\n",
              "    </tr>\n",
              "    <tr>\n",
              "      <th>26016</th>\n",
              "      <td>1000000</td>\n",
              "      <td>0</td>\n",
              "      <td>1</td>\n",
              "      <td>47</td>\n",
              "      <td>0</td>\n",
              "      <td>0</td>\n",
              "      <td>964511</td>\n",
              "      <td>983931</td>\n",
              "      <td>0</td>\n",
              "    </tr>\n",
              "  </tbody>\n",
              "</table>\n",
              "<p>26017 rows × 9 columns</p>\n",
              "</div>"
            ],
            "text/plain": [
              "       LIMIT_BAL  SEX  MARRIAGE  AGE  PAY_0  PAY_1  BILL_AMT1  BILL_AMT2  \\\n",
              "0         160000    0         0   50      0      1          3          3   \n",
              "1         150000    0         0   27      1      1        222          3   \n",
              "2          60000    0         0   27      1      1       1130          7   \n",
              "3         220000    1         0   27      0      0      34686          8   \n",
              "4         400000    0         1   41      0      1     104083          8   \n",
              "...          ...  ...       ...  ...    ...    ...        ...        ...   \n",
              "26012     610000    0         0   38      0      0     608594     624475   \n",
              "26013     590000    1         1   63      0      0     630458     646770   \n",
              "26014     520000    0         1   54      0      0     653062     671563   \n",
              "26015     440000    0         0   39      0      0     431557     743970   \n",
              "26016    1000000    0         1   47      0      0     964511     983931   \n",
              "\n",
              "       default_payment_next_month  \n",
              "0                               0  \n",
              "1                               0  \n",
              "2                               0  \n",
              "3                               0  \n",
              "4                               0  \n",
              "...                           ...  \n",
              "26012                           0  \n",
              "26013                           0  \n",
              "26014                           0  \n",
              "26015                           0  \n",
              "26016                           0  \n",
              "\n",
              "[26017 rows x 9 columns]"
            ]
          },
          "execution_count": 3,
          "metadata": {},
          "output_type": "execute_result"
        }
      ],
      "source": [
        "data = pd.read_excel(\"C:/Users/HP/Downloads/credit.xls\")\n",
        "data"
      ]
    },
    {
      "cell_type": "markdown",
      "id": "cc3ea74a",
      "metadata": {
        "id": "cc3ea74a"
      },
      "source": [
        "# Explorative Data Analysis"
      ]
    },
    {
      "cell_type": "code",
      "execution_count": null,
      "id": "13a82417",
      "metadata": {
        "id": "13a82417",
        "outputId": "d47720b0-7c22-45ba-b7bd-2b8dbcc82ee2"
      },
      "outputs": [
        {
          "data": {
            "text/plain": [
              "LIMIT_BAL                     0\n",
              "SEX                           0\n",
              "MARRIAGE                      0\n",
              "AGE                           0\n",
              "PAY_0                         0\n",
              "PAY_1                         0\n",
              "BILL_AMT1                     0\n",
              "BILL_AMT2                     0\n",
              "default_payment_next_month    0\n",
              "dtype: int64"
            ]
          },
          "execution_count": 4,
          "metadata": {},
          "output_type": "execute_result"
        }
      ],
      "source": [
        "data.isnull().sum()"
      ]
    },
    {
      "cell_type": "code",
      "execution_count": null,
      "id": "e9fa1ddf",
      "metadata": {
        "id": "e9fa1ddf",
        "outputId": "6869a740-0467-4e2f-b132-91853693964b"
      },
      "outputs": [
        {
          "data": {
            "text/html": [
              "<div>\n",
              "<style scoped>\n",
              "    .dataframe tbody tr th:only-of-type {\n",
              "        vertical-align: middle;\n",
              "    }\n",
              "\n",
              "    .dataframe tbody tr th {\n",
              "        vertical-align: top;\n",
              "    }\n",
              "\n",
              "    .dataframe thead th {\n",
              "        text-align: right;\n",
              "    }\n",
              "</style>\n",
              "<table border=\"1\" class=\"dataframe\">\n",
              "  <thead>\n",
              "    <tr style=\"text-align: right;\">\n",
              "      <th></th>\n",
              "      <th>LIMIT_BAL</th>\n",
              "      <th>SEX</th>\n",
              "      <th>MARRIAGE</th>\n",
              "      <th>AGE</th>\n",
              "      <th>PAY_0</th>\n",
              "      <th>PAY_1</th>\n",
              "      <th>BILL_AMT1</th>\n",
              "      <th>BILL_AMT2</th>\n",
              "      <th>default_payment_next_month</th>\n",
              "    </tr>\n",
              "  </thead>\n",
              "  <tbody>\n",
              "    <tr>\n",
              "      <th>count</th>\n",
              "      <td>26017.000000</td>\n",
              "      <td>26017.000000</td>\n",
              "      <td>26017.000000</td>\n",
              "      <td>26017.000000</td>\n",
              "      <td>26017.000000</td>\n",
              "      <td>26017.000000</td>\n",
              "      <td>26017.000000</td>\n",
              "      <td>26017.000000</td>\n",
              "      <td>26017.000000</td>\n",
              "    </tr>\n",
              "    <tr>\n",
              "      <th>mean</th>\n",
              "      <td>162003.293231</td>\n",
              "      <td>0.406273</td>\n",
              "      <td>0.451013</td>\n",
              "      <td>35.362993</td>\n",
              "      <td>0.375908</td>\n",
              "      <td>0.402006</td>\n",
              "      <td>58302.720106</td>\n",
              "      <td>56461.442711</td>\n",
              "      <td>0.221163</td>\n",
              "    </tr>\n",
              "    <tr>\n",
              "      <th>std</th>\n",
              "      <td>130141.991475</td>\n",
              "      <td>0.491146</td>\n",
              "      <td>0.497604</td>\n",
              "      <td>9.239431</td>\n",
              "      <td>0.524889</td>\n",
              "      <td>0.490313</td>\n",
              "      <td>76105.840198</td>\n",
              "      <td>73601.747275</td>\n",
              "      <td>0.415038</td>\n",
              "    </tr>\n",
              "    <tr>\n",
              "      <th>min</th>\n",
              "      <td>10000.000000</td>\n",
              "      <td>0.000000</td>\n",
              "      <td>0.000000</td>\n",
              "      <td>21.000000</td>\n",
              "      <td>0.000000</td>\n",
              "      <td>0.000000</td>\n",
              "      <td>1.000000</td>\n",
              "      <td>3.000000</td>\n",
              "      <td>0.000000</td>\n",
              "    </tr>\n",
              "    <tr>\n",
              "      <th>25%</th>\n",
              "      <td>50000.000000</td>\n",
              "      <td>0.000000</td>\n",
              "      <td>0.000000</td>\n",
              "      <td>28.000000</td>\n",
              "      <td>0.000000</td>\n",
              "      <td>0.000000</td>\n",
              "      <td>8283.000000</td>\n",
              "      <td>8300.000000</td>\n",
              "      <td>0.000000</td>\n",
              "    </tr>\n",
              "    <tr>\n",
              "      <th>50%</th>\n",
              "      <td>130000.000000</td>\n",
              "      <td>0.000000</td>\n",
              "      <td>0.000000</td>\n",
              "      <td>34.000000</td>\n",
              "      <td>0.000000</td>\n",
              "      <td>0.000000</td>\n",
              "      <td>29770.000000</td>\n",
              "      <td>29095.000000</td>\n",
              "      <td>0.000000</td>\n",
              "    </tr>\n",
              "    <tr>\n",
              "      <th>75%</th>\n",
              "      <td>230000.000000</td>\n",
              "      <td>1.000000</td>\n",
              "      <td>1.000000</td>\n",
              "      <td>41.000000</td>\n",
              "      <td>1.000000</td>\n",
              "      <td>1.000000</td>\n",
              "      <td>77356.000000</td>\n",
              "      <td>74621.000000</td>\n",
              "      <td>0.000000</td>\n",
              "    </tr>\n",
              "    <tr>\n",
              "      <th>max</th>\n",
              "      <td>1000000.000000</td>\n",
              "      <td>1.000000</td>\n",
              "      <td>1.000000</td>\n",
              "      <td>79.000000</td>\n",
              "      <td>8.000000</td>\n",
              "      <td>1.000000</td>\n",
              "      <td>964511.000000</td>\n",
              "      <td>983931.000000</td>\n",
              "      <td>1.000000</td>\n",
              "    </tr>\n",
              "  </tbody>\n",
              "</table>\n",
              "</div>"
            ],
            "text/plain": [
              "            LIMIT_BAL           SEX      MARRIAGE           AGE         PAY_0  \\\n",
              "count    26017.000000  26017.000000  26017.000000  26017.000000  26017.000000   \n",
              "mean    162003.293231      0.406273      0.451013     35.362993      0.375908   \n",
              "std     130141.991475      0.491146      0.497604      9.239431      0.524889   \n",
              "min      10000.000000      0.000000      0.000000     21.000000      0.000000   \n",
              "25%      50000.000000      0.000000      0.000000     28.000000      0.000000   \n",
              "50%     130000.000000      0.000000      0.000000     34.000000      0.000000   \n",
              "75%     230000.000000      1.000000      1.000000     41.000000      1.000000   \n",
              "max    1000000.000000      1.000000      1.000000     79.000000      8.000000   \n",
              "\n",
              "              PAY_1      BILL_AMT1      BILL_AMT2  default_payment_next_month  \n",
              "count  26017.000000   26017.000000   26017.000000                26017.000000  \n",
              "mean       0.402006   58302.720106   56461.442711                    0.221163  \n",
              "std        0.490313   76105.840198   73601.747275                    0.415038  \n",
              "min        0.000000       1.000000       3.000000                    0.000000  \n",
              "25%        0.000000    8283.000000    8300.000000                    0.000000  \n",
              "50%        0.000000   29770.000000   29095.000000                    0.000000  \n",
              "75%        1.000000   77356.000000   74621.000000                    0.000000  \n",
              "max        1.000000  964511.000000  983931.000000                    1.000000  "
            ]
          },
          "execution_count": 5,
          "metadata": {},
          "output_type": "execute_result"
        }
      ],
      "source": [
        "data.describe()"
      ]
    },
    {
      "cell_type": "code",
      "execution_count": null,
      "id": "d791ed3c",
      "metadata": {
        "id": "d791ed3c",
        "outputId": "48b6a2d6-df2e-4862-9f3d-1d271c1fb0c4"
      },
      "outputs": [
        {
          "data": {
            "text/plain": [
              "array([0, 1], dtype=int64)"
            ]
          },
          "execution_count": 6,
          "metadata": {},
          "output_type": "execute_result"
        }
      ],
      "source": [
        "data['default_payment_next_month'].unique()"
      ]
    },
    {
      "cell_type": "code",
      "execution_count": null,
      "id": "51fac307",
      "metadata": {
        "id": "51fac307",
        "outputId": "262bef8a-bf94-4d1f-d0ff-0df73cc292ff"
      },
      "outputs": [
        {
          "data": {
            "text/html": [
              "<div>\n",
              "<style scoped>\n",
              "    .dataframe tbody tr th:only-of-type {\n",
              "        vertical-align: middle;\n",
              "    }\n",
              "\n",
              "    .dataframe tbody tr th {\n",
              "        vertical-align: top;\n",
              "    }\n",
              "\n",
              "    .dataframe thead th {\n",
              "        text-align: right;\n",
              "    }\n",
              "</style>\n",
              "<table border=\"1\" class=\"dataframe\">\n",
              "  <thead>\n",
              "    <tr style=\"text-align: right;\">\n",
              "      <th></th>\n",
              "      <th>LIMIT_BAL</th>\n",
              "      <th>SEX</th>\n",
              "      <th>MARRIAGE</th>\n",
              "      <th>AGE</th>\n",
              "      <th>PAY_0</th>\n",
              "      <th>PAY_1</th>\n",
              "      <th>BILL_AMT1</th>\n",
              "      <th>BILL_AMT2</th>\n",
              "      <th>default_payment_next_month</th>\n",
              "    </tr>\n",
              "  </thead>\n",
              "  <tbody>\n",
              "    <tr>\n",
              "      <th>LIMIT_BAL</th>\n",
              "      <td>1.000000</td>\n",
              "      <td>-0.023724</td>\n",
              "      <td>0.097880</td>\n",
              "      <td>0.133568</td>\n",
              "      <td>-0.013126</td>\n",
              "      <td>0.094190</td>\n",
              "      <td>0.347005</td>\n",
              "      <td>0.340481</td>\n",
              "      <td>-0.181849</td>\n",
              "    </tr>\n",
              "    <tr>\n",
              "      <th>SEX</th>\n",
              "      <td>-0.023724</td>\n",
              "      <td>1.000000</td>\n",
              "      <td>-0.032589</td>\n",
              "      <td>0.098698</td>\n",
              "      <td>0.006807</td>\n",
              "      <td>-0.014877</td>\n",
              "      <td>0.021858</td>\n",
              "      <td>0.019357</td>\n",
              "      <td>0.040222</td>\n",
              "    </tr>\n",
              "    <tr>\n",
              "      <th>MARRIAGE</th>\n",
              "      <td>0.097880</td>\n",
              "      <td>-0.032589</td>\n",
              "      <td>1.000000</td>\n",
              "      <td>0.443143</td>\n",
              "      <td>0.037247</td>\n",
              "      <td>0.054803</td>\n",
              "      <td>0.033394</td>\n",
              "      <td>0.031658</td>\n",
              "      <td>0.031058</td>\n",
              "    </tr>\n",
              "    <tr>\n",
              "      <th>AGE</th>\n",
              "      <td>0.133568</td>\n",
              "      <td>0.098698</td>\n",
              "      <td>0.443143</td>\n",
              "      <td>1.000000</td>\n",
              "      <td>0.023531</td>\n",
              "      <td>0.055486</td>\n",
              "      <td>0.071122</td>\n",
              "      <td>0.070207</td>\n",
              "      <td>0.003802</td>\n",
              "    </tr>\n",
              "    <tr>\n",
              "      <th>PAY_0</th>\n",
              "      <td>-0.013126</td>\n",
              "      <td>0.006807</td>\n",
              "      <td>0.037247</td>\n",
              "      <td>0.023531</td>\n",
              "      <td>1.000000</td>\n",
              "      <td>0.643776</td>\n",
              "      <td>-0.211363</td>\n",
              "      <td>-0.198315</td>\n",
              "      <td>0.248613</td>\n",
              "    </tr>\n",
              "    <tr>\n",
              "      <th>PAY_1</th>\n",
              "      <td>0.094190</td>\n",
              "      <td>-0.014877</td>\n",
              "      <td>0.054803</td>\n",
              "      <td>0.055486</td>\n",
              "      <td>0.643776</td>\n",
              "      <td>1.000000</td>\n",
              "      <td>-0.328373</td>\n",
              "      <td>-0.322360</td>\n",
              "      <td>0.172236</td>\n",
              "    </tr>\n",
              "    <tr>\n",
              "      <th>BILL_AMT1</th>\n",
              "      <td>0.347005</td>\n",
              "      <td>0.021858</td>\n",
              "      <td>0.033394</td>\n",
              "      <td>0.071122</td>\n",
              "      <td>-0.211363</td>\n",
              "      <td>-0.328373</td>\n",
              "      <td>1.000000</td>\n",
              "      <td>0.958080</td>\n",
              "      <td>-0.020379</td>\n",
              "    </tr>\n",
              "    <tr>\n",
              "      <th>BILL_AMT2</th>\n",
              "      <td>0.340481</td>\n",
              "      <td>0.019357</td>\n",
              "      <td>0.031658</td>\n",
              "      <td>0.070207</td>\n",
              "      <td>-0.198315</td>\n",
              "      <td>-0.322360</td>\n",
              "      <td>0.958080</td>\n",
              "      <td>1.000000</td>\n",
              "      <td>-0.014788</td>\n",
              "    </tr>\n",
              "    <tr>\n",
              "      <th>default_payment_next_month</th>\n",
              "      <td>-0.181849</td>\n",
              "      <td>0.040222</td>\n",
              "      <td>0.031058</td>\n",
              "      <td>0.003802</td>\n",
              "      <td>0.248613</td>\n",
              "      <td>0.172236</td>\n",
              "      <td>-0.020379</td>\n",
              "      <td>-0.014788</td>\n",
              "      <td>1.000000</td>\n",
              "    </tr>\n",
              "  </tbody>\n",
              "</table>\n",
              "</div>"
            ],
            "text/plain": [
              "                            LIMIT_BAL       SEX  MARRIAGE       AGE     PAY_0  \\\n",
              "LIMIT_BAL                    1.000000 -0.023724  0.097880  0.133568 -0.013126   \n",
              "SEX                         -0.023724  1.000000 -0.032589  0.098698  0.006807   \n",
              "MARRIAGE                     0.097880 -0.032589  1.000000  0.443143  0.037247   \n",
              "AGE                          0.133568  0.098698  0.443143  1.000000  0.023531   \n",
              "PAY_0                       -0.013126  0.006807  0.037247  0.023531  1.000000   \n",
              "PAY_1                        0.094190 -0.014877  0.054803  0.055486  0.643776   \n",
              "BILL_AMT1                    0.347005  0.021858  0.033394  0.071122 -0.211363   \n",
              "BILL_AMT2                    0.340481  0.019357  0.031658  0.070207 -0.198315   \n",
              "default_payment_next_month  -0.181849  0.040222  0.031058  0.003802  0.248613   \n",
              "\n",
              "                               PAY_1  BILL_AMT1  BILL_AMT2  \\\n",
              "LIMIT_BAL                   0.094190   0.347005   0.340481   \n",
              "SEX                        -0.014877   0.021858   0.019357   \n",
              "MARRIAGE                    0.054803   0.033394   0.031658   \n",
              "AGE                         0.055486   0.071122   0.070207   \n",
              "PAY_0                       0.643776  -0.211363  -0.198315   \n",
              "PAY_1                       1.000000  -0.328373  -0.322360   \n",
              "BILL_AMT1                  -0.328373   1.000000   0.958080   \n",
              "BILL_AMT2                  -0.322360   0.958080   1.000000   \n",
              "default_payment_next_month  0.172236  -0.020379  -0.014788   \n",
              "\n",
              "                            default_payment_next_month  \n",
              "LIMIT_BAL                                    -0.181849  \n",
              "SEX                                           0.040222  \n",
              "MARRIAGE                                      0.031058  \n",
              "AGE                                           0.003802  \n",
              "PAY_0                                         0.248613  \n",
              "PAY_1                                         0.172236  \n",
              "BILL_AMT1                                    -0.020379  \n",
              "BILL_AMT2                                    -0.014788  \n",
              "default_payment_next_month                    1.000000  "
            ]
          },
          "execution_count": 36,
          "metadata": {},
          "output_type": "execute_result"
        },
        {
          "data": {
            "image/png": "[encoded data removed]",
            "text/plain": [
              "<Figure size 720x720 with 2 Axes>"
            ]
          },
          "metadata": {
            "needs_background": "light"
          },
          "output_type": "display_data"
        }
      ],
      "source": [
        "import seaborn as sns\n",
        "plt.figure(figsize=(10,10))\n",
        "sns.heatmap(data.corr(), cmap=sns.diverging_palette(000,11,as_cmap=True),annot=True)\n",
        "data.corr()"
      ]
    },
    {
      "cell_type": "code",
      "execution_count": null,
      "id": "a2603851",
      "metadata": {
        "id": "a2603851"
      },
      "outputs": [],
      "source": [
        "#Interpretation:\n",
        "#We can see that there is very correlation between the variables."
      ]
    },
    {
      "cell_type": "code",
      "execution_count": null,
      "id": "8eea7640",
      "metadata": {
        "id": "8eea7640",
        "outputId": "0a0575d6-6dcc-4002-dfc2-da003f3f59e5"
      },
      "outputs": [
        {
          "data": {
            "text/plain": [
              "Text(0, 0.5, 'default payment next month')"
            ]
          },
          "execution_count": 9,
          "metadata": {},
          "output_type": "execute_result"
        },
        {
          "data": {
            "image/png": "[encoded data removed]",
            "text/plain": [
              "<Figure size 432x288 with 1 Axes>"
            ]
          },
          "metadata": {
            "needs_background": "light"
          },
          "output_type": "display_data"
        }
      ],
      "source": [
        "pd.crosstab(data.PAY_0,data.default_payment_next_month).plot(kind='bar')\n",
        "plt.xlabel('PAY_0')\n",
        "plt.ylabel('default payment next month')"
      ]
    },
    {
      "cell_type": "code",
      "execution_count": null,
      "id": "bb68e3dc",
      "metadata": {
        "id": "bb68e3dc"
      },
      "outputs": [],
      "source": [
        "#Interpretation:\n",
        "#The blue line represents default payment 0(No) next month and orange line represents default payment next month 1(yes)"
      ]
    },
    {
      "cell_type": "code",
      "execution_count": null,
      "id": "09e68043",
      "metadata": {
        "id": "09e68043"
      },
      "outputs": [],
      "source": [
        "#Declaring x and y variable.\n",
        "y= data['default_payment_next_month'].copy()\n",
        "X= data.drop('default_payment_next_month',axis=1)"
      ]
    },
    {
      "cell_type": "code",
      "execution_count": null,
      "id": "0adf9844",
      "metadata": {
        "id": "0adf9844",
        "outputId": "95457bb1-d648-4718-c611-8cfe6eaf4c6f"
      },
      "outputs": [
        {
          "data": {
            "image/png": "[encoded data removed]",
            "text/plain": [
              "<Figure size 432x288 with 1 Axes>"
            ]
          },
          "metadata": {
            "needs_background": "light"
          },
          "output_type": "display_data"
        }
      ],
      "source": [
        "import seaborn as sb\n",
        "sb.countplot(x='default_payment_next_month',data=data)\n",
        "plt.show()"
      ]
    },
    {
      "cell_type": "code",
      "execution_count": null,
      "id": "3f06fa38",
      "metadata": {
        "id": "3f06fa38"
      },
      "outputs": [],
      "source": [
        "#Interpretation:\n",
        "#Here we can see that there is imbalance in our observation .\n",
        "#In oversampling we can go for particular technique like SMOTE(synthetic minority sampling technique)"
      ]
    },
    {
      "cell_type": "markdown",
      "id": "f4d1cd70",
      "metadata": {
        "id": "f4d1cd70"
      },
      "source": [
        "# Analysis:"
      ]
    },
    {
      "cell_type": "code",
      "execution_count": null,
      "id": "f18eb2c6",
      "metadata": {
        "id": "f18eb2c6"
      },
      "outputs": [],
      "source": [
        "#Splitting the dataset into the Training set and Test set (80:20)\n",
        "from sklearn.model_selection import train_test_split\n",
        "X_train, X_test, y_train, y_test = train_test_split(X, y, test_size = 0.25, random_state = 0)"
      ]
    },
    {
      "cell_type": "code",
      "execution_count": null,
      "id": "863219e7",
      "metadata": {
        "id": "863219e7",
        "outputId": "0bb4fb06-1814-4813-efc4-31aa32d5aac9"
      },
      "outputs": [
        {
          "name": "stdout",
          "output_type": "stream",
          "text": [
            "percentage of subscription 77.8836914325249\n",
            "percentage of subscription 22.116308567475112\n"
          ]
        }
      ],
      "source": [
        "count_sub1 = len(data[data['default_payment_next_month']==0])\n",
        "count_sub2 = len(data[data['default_payment_next_month']==1])\n",
        "\n",
        "pct_of_sub1 = count_sub1/(count_sub1+count_sub2)\n",
        "print(\"percentage of subscription\", pct_of_sub1*100)\n",
        "\n",
        "pct_of_sub2 = count_sub2/(count_sub1+count_sub2)\n",
        "print(\"percentage of subscription\", pct_of_sub2*100)"
      ]
    },
    {
      "cell_type": "markdown",
      "id": "3d83afa5",
      "metadata": {
        "id": "3d83afa5"
      },
      "source": [
        "### Synthentic Minority Oversampling Technique (SMOTE)"
      ]
    },
    {
      "cell_type": "code",
      "execution_count": null,
      "id": "72c56b48",
      "metadata": {
        "id": "72c56b48",
        "outputId": "fd37c490-b8b8-4462-b59c-7fb60686af45"
      },
      "outputs": [
        {
          "name": "stdout",
          "output_type": "stream",
          "text": [
            "length of oversampled data is  28406\n",
            "Number of subscription 14203\n",
            "Number of subscription 14203\n",
            "Proportion of subscription data in oversampled data is  0.5\n",
            "Proportion of subscription data in oversampled data is  0.5\n"
          ]
        }
      ],
      "source": [
        "from imblearn.over_sampling import SMOTE\n",
        "from sklearn.model_selection import train_test_split\n",
        "os = SMOTE(random_state=0)\n",
        "X_train, X_test, y_train, y_test = train_test_split(X, y, test_size=0.3, random_state=0)\n",
        "columns = X_train.columns\n",
        "os_data_X,os_data_y=os.fit_resample(X_train, y_train)\n",
        "os_data_X = pd.DataFrame(data=os_data_X,columns=columns )\n",
        "os_data_y= pd.DataFrame(data=os_data_y,columns=['default_payment_next_month'])\n",
        "\n",
        "# we can Check the numbers of our data\n",
        "print(\"length of oversampled data is \",len(os_data_X))\n",
        "\n",
        "print(\"Number of subscription\",len(os_data_y[os_data_y['default_payment_next_month']==0]))\n",
        "print(\"Number of subscription\",len(os_data_y[os_data_y['default_payment_next_month']==1]))\n",
        "\n",
        "print(\"Proportion of subscription data in oversampled data is \",len(os_data_y[os_data_y['default_payment_next_month']==0])/len(os_data_X))\n",
        "print(\"Proportion of subscription data in oversampled data is \",len(os_data_y[os_data_y['default_payment_next_month']==1])/len(os_data_X))\n"
      ]
    },
    {
      "cell_type": "code",
      "execution_count": null,
      "id": "edb6e1c6",
      "metadata": {
        "id": "edb6e1c6"
      },
      "outputs": [],
      "source": [
        "\n",
        "from sklearn.preprocessing import StandardScaler\n",
        "sc = StandardScaler()\n",
        "X_train = sc.fit_transform(X_train)\n",
        "X_test = sc.transform(X_test)"
      ]
    },
    {
      "cell_type": "markdown",
      "id": "b780b731",
      "metadata": {
        "id": "b780b731"
      },
      "source": [
        "### Approach 1 - Discretisation approach\n",
        "- All continuous variables are converted into categorical through binning\n",
        "- Multinomial NBC is applied for all"
      ]
    },
    {
      "cell_type": "code",
      "execution_count": null,
      "id": "08928f40",
      "metadata": {
        "id": "08928f40"
      },
      "outputs": [],
      "source": [
        "# Bin continuous vairbales into 20% quantiles\n",
        "data['LIMIT_BAL_qt'] = pd.qcut(data['LIMIT_BAL'], 5, labels=['bottom 10', 'lower 10', 'middle 10', 'upper 10', 'top 10'])\n",
        "data['AGE_qt'] = pd.qcut(data['AGE'], 5,labels=['bottom 10', 'lower 10', 'middle 10', 'upper 10', 'top 10'])\n",
        "data['BILL_AMT1_qt'] = pd.qcut(data['BILL_AMT1'], 5,labels=['bottom 10', 'lower 10', 'middle 10', 'upper 10', 'top 10'])\n",
        "data['BILL_AMT2_qt'] = pd.qcut(data['BILL_AMT2'], 5,labels=['bottom 10', 'lower 10', 'middle 10', 'upper 10', 'top 10'])\n"
      ]
    },
    {
      "cell_type": "code",
      "execution_count": null,
      "id": "7ccc7fbc",
      "metadata": {
        "id": "7ccc7fbc"
      },
      "outputs": [],
      "source": [
        "#We are Binning continuous variables into 20% quantiles and storing it in new variables in the same dataframe"
      ]
    },
    {
      "cell_type": "code",
      "execution_count": null,
      "id": "3e5806e1",
      "metadata": {
        "id": "3e5806e1"
      },
      "outputs": [],
      "source": [
        "X=data[['LIMIT_BAL_qt','SEX','MARRIAGE','AGE_qt','PAY_0','PAY_1','BILL_AMT1_qt','BILL_AMT2_qt']]\n",
        "y=data['default_payment_next_month'].values"
      ]
    },
    {
      "cell_type": "code",
      "execution_count": null,
      "id": "735fa1ad",
      "metadata": {
        "id": "735fa1ad"
      },
      "outputs": [],
      "source": [
        "# Function that handles sample splitting, model fitting and report printing\n",
        "def mfunc(X, y, typ):\n",
        "    # Create training and testing samples\n",
        "    X_train, X_test, y_train, y_test = train_test_split(X, y, test_size=0.2,random_state=0)\n",
        "    # Fit the model\n",
        "    model = typ\n",
        "    clf = model.fit(X_train, y_train)\n",
        "    # Predict class labels on a test data\n",
        "    pred_labels = model.predict(X_test)\n",
        "    # Print model attributes\n",
        "    print('Classes: ', clf.classes_) # class labels known to the classifier\n",
        "    if str(typ)=='GaussianNB()':\n",
        "        print('Class Priors: ',clf.class_prior_) # prior probability of each class.\n",
        "    else:\n",
        "        print('Class Log Priors: ',clf.class_log_prior_) # log prior probability of each class.\n",
        "    # Use score method to get accuracy of the model\n",
        "    print('--------------------------------------------------------')\n",
        "    score = model.score(X_test, y_test)\n",
        "    print('Accuracy Score: ', score)\n",
        "    print('--------------------------------------------------------')\n",
        "    # Look at classification report to evaluate the model\n",
        "    print(classification_report(y_test, pred_labels))\n",
        "    # Return relevant data for chart plotting\n",
        "    return X_train, X_test, y_train, y_test, clf, pred_labels\n",
        "\n",
        "\n",
        ""
      ]
    },
    {
      "cell_type": "code",
      "execution_count": null,
      "id": "e93803b6",
      "metadata": {
        "id": "e93803b6"
      },
      "outputs": [],
      "source": [
        "#coding categorical variables\n",
        "enc = OrdinalEncoder()\n",
        "X = enc.fit_transform(X)"
      ]
    },
    {
      "cell_type": "code",
      "execution_count": null,
      "id": "405419af",
      "metadata": {
        "id": "405419af",
        "outputId": "474c656a-6dab-4fff-cb15-5ef982a2544e"
      },
      "outputs": [
        {
          "name": "stdout",
          "output_type": "stream",
          "text": [
            "Classes:  [0 1]\n",
            "Class Log Priors:  [-0.24736181 -1.51803589]\n",
            "--------------------------------------------------------\n",
            "Accuracy Score:  0.7580707148347425\n",
            "--------------------------------------------------------\n",
            "              precision    recall  f1-score   support\n",
            "\n",
            "           0       0.80      0.91      0.85      4011\n",
            "           1       0.45      0.24      0.32      1193\n",
            "\n",
            "    accuracy                           0.76      5204\n",
            "   macro avg       0.63      0.58      0.58      5204\n",
            "weighted avg       0.72      0.76      0.73      5204\n",
            "\n"
          ]
        }
      ],
      "source": [
        "#Fitting and summary for test data\n",
        "X_train, X_test, y_train, y_test, clf, pred_labels = mfunc(X, y,CategoricalNB())"
      ]
    },
    {
      "cell_type": "markdown",
      "id": "172267e8",
      "metadata": {
        "id": "172267e8"
      },
      "source": [
        "\n",
        "The accuracy measure obtained 0.76 which implies the model is a good model\n",
        "\n",
        "Out of all the positive predictions:-\n",
        "\n",
        " 80% can be accurately predicted that the default credit card prediction is No\n",
        " 45% can be accurately predicted that the  default credit card prediction is Yes.\n",
        "\n",
        "Out of all the actual positives:-\n",
        "\n",
        "91% of the predictions are accurate that the default credit card prediction is No.\n",
        "24% of the predictions are accurate that the default credit card prediction is Yes.\n",
        "\n",
        "The F-measure is calculated as the harmonic mean of precision and recall, giving each the same weighting.\n",
        "It allows a model to be evaluated taking both the precision and recall into account using a single score Helpful when describing the performance of the model and in comparing models.\n",
        "A smaller beta value, gives more weight to precision and less to recall. Here Macro average is the AM of scores of two classes and the weighted average is the proportion of observations in each class.\n",
        "Since it is balnced classification the macro average and weighted average are same."
      ]
    },
    {
      "cell_type": "markdown",
      "id": "41bbd102",
      "metadata": {
        "id": "41bbd102"
      },
      "source": [
        "### Approach 2 - Hybrid approach\n",
        "- Train two models seperately\n",
        "- Predict class probabilities and combine two to train the final model"
      ]
    },
    {
      "cell_type": "code",
      "execution_count": null,
      "id": "a4542fbf",
      "metadata": {
        "id": "a4542fbf",
        "outputId": "dec8f013-a263-4a06-b448-906bbc550ae0"
      },
      "outputs": [
        {
          "name": "stdout",
          "output_type": "stream",
          "text": [
            "       LIMIT_BAL  AGE  BILL_AMT1  BILL_AMT2\n",
            "0         160000   50          3          3\n",
            "1         150000   27        222          3\n",
            "2          60000   27       1130          7\n",
            "3         220000   27      34686          8\n",
            "4         400000   41     104083          8\n",
            "...          ...  ...        ...        ...\n",
            "26012     610000   38     608594     624475\n",
            "26013     590000   63     630458     646770\n",
            "26014     520000   54     653062     671563\n",
            "26015     440000   39     431557     743970\n",
            "26016    1000000   47     964511     983931\n",
            "\n",
            "[26017 rows x 4 columns]\n",
            "       SEX  MARRIAGE  PAY_0  PAY_1\n",
            "0        0         0      0      1\n",
            "1        0         0      1      1\n",
            "2        0         0      1      1\n",
            "3        1         0      0      0\n",
            "4        0         1      0      1\n",
            "...    ...       ...    ...    ...\n",
            "26012    0         0      0      0\n",
            "26013    1         1      0      0\n",
            "26014    0         1      0      0\n",
            "26015    0         0      0      0\n",
            "26016    0         1      0      0\n",
            "\n",
            "[26017 rows x 4 columns]\n"
          ]
        }
      ],
      "source": [
        "# Select data for modeling\n",
        "X_C=data[['LIMIT_BAL','AGE','BILL_AMT1','BILL_AMT2']] # continuous\n",
        "X_D=data[['SEX','MARRIAGE','PAY_0','PAY_1']] # discrete\n",
        "y=data['default_payment_next_month'].values\n",
        "print(X_C)\n",
        "print(X_D)"
      ]
    },
    {
      "cell_type": "code",
      "execution_count": null,
      "id": "f394d8e0",
      "metadata": {
        "id": "f394d8e0",
        "outputId": "92be372e-4c2e-479f-f3c8-d04904c61373"
      },
      "outputs": [
        {
          "data": {
            "text/plain": [
              "array([[0., 0., 0., 1.],\n",
              "       [0., 0., 1., 1.],\n",
              "       [0., 0., 1., 1.],\n",
              "       ...,\n",
              "       [0., 1., 0., 0.],\n",
              "       [0., 0., 0., 0.],\n",
              "       [0., 1., 0., 0.]])"
            ]
          },
          "execution_count": 25,
          "metadata": {},
          "output_type": "execute_result"
        }
      ],
      "source": [
        "# Encode categorical variables\n",
        "enc = OrdinalEncoder()\n",
        "X_D = enc.fit_transform(X_D)\n",
        "X_D[:,0]\n",
        "X_D[:,0].ravel()\n",
        "X_D"
      ]
    },
    {
      "cell_type": "code",
      "execution_count": null,
      "id": "d5e70643",
      "metadata": {
        "id": "d5e70643",
        "outputId": "11b57fba-0e23-4a2e-d02f-fa1e7a290b74"
      },
      "outputs": [
        {
          "data": {
            "text/plain": [
              "array([[1.60000e+05, 5.00000e+01, 3.00000e+00, 3.00000e+00, 0.00000e+00,\n",
              "        0.00000e+00],\n",
              "       [1.50000e+05, 2.70000e+01, 2.22000e+02, 3.00000e+00, 0.00000e+00,\n",
              "        0.00000e+00],\n",
              "       [6.00000e+04, 2.70000e+01, 1.13000e+03, 7.00000e+00, 0.00000e+00,\n",
              "        0.00000e+00],\n",
              "       ...,\n",
              "       [5.20000e+05, 5.40000e+01, 6.53062e+05, 6.71563e+05, 0.00000e+00,\n",
              "        1.00000e+00],\n",
              "       [4.40000e+05, 3.90000e+01, 4.31557e+05, 7.43970e+05, 0.00000e+00,\n",
              "        0.00000e+00],\n",
              "       [1.00000e+06, 4.70000e+01, 9.64511e+05, 9.83931e+05, 0.00000e+00,\n",
              "        1.00000e+00]])"
            ]
          },
          "execution_count": 26,
          "metadata": {},
          "output_type": "execute_result"
        }
      ],
      "source": [
        "X=np.c_[X_C, X_D[:,0], X_D[:,1]]\n",
        "X"
      ]
    },
    {
      "cell_type": "code",
      "execution_count": null,
      "id": "4ab89a17",
      "metadata": {
        "id": "4ab89a17",
        "outputId": "7810b309-2afb-4a20-d5fe-7d7a9d07e193"
      },
      "outputs": [
        {
          "data": {
            "text/plain": [
              "array([[1.60000e+05, 5.00000e+01, 3.00000e+00, 3.00000e+00, 0.00000e+00,\n",
              "        0.00000e+00],\n",
              "       [1.50000e+05, 2.70000e+01, 2.22000e+02, 3.00000e+00, 0.00000e+00,\n",
              "        0.00000e+00],\n",
              "       [6.00000e+04, 2.70000e+01, 1.13000e+03, 7.00000e+00, 0.00000e+00,\n",
              "        0.00000e+00],\n",
              "       ...,\n",
              "       [5.20000e+05, 5.40000e+01, 6.53062e+05, 6.71563e+05, 0.00000e+00,\n",
              "        1.00000e+00],\n",
              "       [4.40000e+05, 3.90000e+01, 4.31557e+05, 7.43970e+05, 0.00000e+00,\n",
              "        0.00000e+00],\n",
              "       [1.00000e+06, 4.70000e+01, 9.64511e+05, 9.83931e+05, 0.00000e+00,\n",
              "        1.00000e+00]])"
            ]
          },
          "execution_count": 27,
          "metadata": {},
          "output_type": "execute_result"
        }
      ],
      "source": [
        "X_train, X_test, y_train, y_test = train_test_split(X, y, test_size=0.2,random_state=100)\n",
        "X"
      ]
    },
    {
      "cell_type": "code",
      "execution_count": null,
      "id": "43a46ac9",
      "metadata": {
        "id": "43a46ac9"
      },
      "outputs": [],
      "source": [
        "# ----- Fit the two models -----\n",
        "# Now use the Gaussian model for continuous independent variable and\n",
        "model_C= GaussianNB()\n",
        "clf_C= model_C.fit(X_train[:,0:3], y_train)\n",
        "# Categorical model for discrete independent variable\n",
        "model_D = CategoricalNB()\n",
        "clf_D= model_D.fit(X_train[:,3:7], y_train)"
      ]
    },
    {
      "cell_type": "code",
      "execution_count": null,
      "id": "0d842aca",
      "metadata": {
        "id": "0d842aca",
        "outputId": "edcb5581-4bc7-4753-f309-39443ca97d97"
      },
      "outputs": [
        {
          "data": {
            "text/plain": [
              "array([[0.68617739, 0.31382261],\n",
              "       [0.71065816, 0.28934184],\n",
              "       [0.76158019, 0.23841981],\n",
              "       ...,\n",
              "       [0.98355354, 0.01644646],\n",
              "       [0.80246819, 0.19753181],\n",
              "       [0.82780844, 0.17219156]])"
            ]
          },
          "execution_count": 29,
          "metadata": {},
          "output_type": "execute_result"
        }
      ],
      "source": [
        "C_train_probas = model_C.predict_proba(X_train[:,0:3])\n",
        "D_train_probas = model_D.predict_proba(X_train[:,3:7])\n",
        "C_test_probas = model_C.predict_proba(X_test[:,0:3])\n",
        "D_test_probas = model_D.predict_proba(X_test[:,3:7])\n",
        "C_train_probas"
      ]
    },
    {
      "cell_type": "markdown",
      "id": "63dae196",
      "metadata": {
        "id": "63dae196"
      },
      "source": [
        "We get the probability predictions from each model for the train data and test data seperately"
      ]
    },
    {
      "cell_type": "code",
      "execution_count": null,
      "id": "7db951ec",
      "metadata": {
        "id": "7db951ec",
        "outputId": "8355e4ff-bd7a-4fbc-a9fb-9384c288670b"
      },
      "outputs": [
        {
          "data": {
            "text/plain": [
              "array([[0.31382261, 0.33246938],\n",
              "       [0.28934184, 0.22517046],\n",
              "       [0.23841981, 0.12686878],\n",
              "       ...,\n",
              "       [0.01644646, 0.1032905 ],\n",
              "       [0.19753181, 0.147327  ],\n",
              "       [0.17219156, 0.19937827]])"
            ]
          },
          "execution_count": 30,
          "metadata": {},
          "output_type": "execute_result"
        }
      ],
      "source": [
        "X_new_train = np.c_[(C_train_probas[:,1], D_train_probas[:,1])] # Train\n",
        "X_new_test = np.c_[(C_test_probas[:,1], D_test_probas[:,1])] # Test\n",
        "C_train_probas[:1]\n",
        "X_new_train"
      ]
    },
    {
      "cell_type": "markdown",
      "id": "c71211f6",
      "metadata": {
        "id": "c71211f6"
      },
      "source": [
        "We combine the probability prediction for class 1 from both models into a 2Dimensional array for the train data and test data"
      ]
    },
    {
      "cell_type": "code",
      "execution_count": null,
      "id": "67697a72",
      "metadata": {
        "id": "67697a72",
        "outputId": "6a9e761e-bf6f-4cd3-c513-7057b66bd62e"
      },
      "outputs": [
        {
          "data": {
            "text/plain": [
              "array([[0.66753062, 0.33246938],\n",
              "       [0.77482954, 0.22517046],\n",
              "       [0.87313122, 0.12686878],\n",
              "       ...,\n",
              "       [0.8967095 , 0.1032905 ],\n",
              "       [0.852673  , 0.147327  ],\n",
              "       [0.80062173, 0.19937827]])"
            ]
          },
          "execution_count": 31,
          "metadata": {},
          "output_type": "execute_result"
        }
      ],
      "source": [
        "D_train_probas"
      ]
    },
    {
      "cell_type": "code",
      "execution_count": null,
      "id": "25c6af57",
      "metadata": {
        "id": "25c6af57"
      },
      "outputs": [],
      "source": [
        "\n",
        "model = GaussianNB()\n",
        "clf = model.fit(X_new_train, y_train)\n",
        "# Fitting the Gaussian model on  X_new which is the combination the probability prediction for class 1 from both models"
      ]
    },
    {
      "cell_type": "code",
      "execution_count": null,
      "id": "499f7003",
      "metadata": {
        "id": "499f7003",
        "outputId": "750ba31b-e937-4ff8-f7ca-2aa1e1d5400b"
      },
      "outputs": [
        {
          "data": {
            "text/plain": [
              "array([0, 1, 0, ..., 1, 0, 0], dtype=int64)"
            ]
          },
          "execution_count": 33,
          "metadata": {},
          "output_type": "execute_result"
        }
      ],
      "source": [
        "# Predict class labels on a test data\n",
        "pred_labels = model.predict(X_new_test)\n",
        "pred_labels"
      ]
    },
    {
      "cell_type": "code",
      "execution_count": null,
      "id": "8329656f",
      "metadata": {
        "id": "8329656f",
        "outputId": "a7c23011-8a10-45bf-fe21-47c420f6b50f"
      },
      "outputs": [
        {
          "data": {
            "text/plain": [
              "array([0, 1, 0, ..., 1, 0, 0], dtype=int64)"
            ]
          },
          "execution_count": 34,
          "metadata": {},
          "output_type": "execute_result"
        }
      ],
      "source": [
        "# Predict class labels on a test data\n",
        "pred_labels = model.predict(X_new_test)\n",
        "pred_labels"
      ]
    },
    {
      "cell_type": "markdown",
      "id": "6ffa1f55",
      "metadata": {
        "id": "6ffa1f55"
      },
      "source": [
        "# Accuracy Measure"
      ]
    },
    {
      "cell_type": "code",
      "execution_count": null,
      "id": "5a881c9b",
      "metadata": {
        "id": "5a881c9b",
        "outputId": "1791adc2-991d-48cd-d37a-d7462a3ddf5f"
      },
      "outputs": [
        {
          "name": "stdout",
          "output_type": "stream",
          "text": [
            "Classes:  [0 1]\n",
            "Class Priors:  [0.77874405 0.22125595]\n",
            "--------------------------------------------------------\n",
            "Accuracy Score:  0.4980784012298232\n",
            "--------------------------------------------------------\n",
            "              precision    recall  f1-score   support\n",
            "\n",
            "           0       0.80      0.47      0.60      4055\n",
            "           1       0.24      0.58      0.34      1149\n",
            "\n",
            "    accuracy                           0.50      5204\n",
            "   macro avg       0.52      0.53      0.47      5204\n",
            "weighted avg       0.68      0.50      0.54      5204\n",
            "\n"
          ]
        }
      ],
      "source": [
        "print('Classes: ', clf.classes_) # class labels known to the classifier\n",
        "print('Class Priors: ',clf.class_prior_) # probability of each class.\n",
        "print('--------------------------------------------------------')\n",
        "score = model.score(X_new_test, y_test)\n",
        "print('Accuracy Score: ', score)\n",
        "print('--------------------------------------------------------')\n",
        "print(classification_report(y_test, pred_labels))"
      ]
    },
    {
      "cell_type": "markdown",
      "id": "4ee95283",
      "metadata": {
        "id": "4ee95283"
      },
      "source": [
        "The accuracy measure obtained 0.53 which implies the model is a good model.\n",
        "\n",
        "Out of all the positive predictions:-\n",
        "\n",
        "Only 80% can be accurately predicted that the default credit card prediction is No\n",
        "Only 24% can be accurately predicted that the default credit card prediction is Yes\n",
        "Out of all the actual positives:-\n",
        "\n",
        "47% of the predictions are accurate that the default credit card prediction is No\n",
        "58% of the predictions are accurate that the default credit card prediction is Yes\n",
        "The F-measure is calculated as the harmonic mean of precision and recall, giving each the same weighting. It allows a model to be evaluated taking both the precision and recall into account using a single score Helpful when describing the performance of the model and in comparing models. A smaller beta value, gives more weight to precision and less to recall. Here Macro average is the AM of scores of two classes and the weighted average is the proportion of observations in each class. Since it is balnced classification the macro average and weighted average are same."
      ]
    },
    {
      "cell_type": "markdown",
      "id": "37d70ee8",
      "metadata": {
        "id": "37d70ee8"
      },
      "source": [
        "## Conclusion"
      ]
    },
    {
      "cell_type": "markdown",
      "id": "9a90c1d4",
      "metadata": {
        "id": "9a90c1d4"
      },
      "source": [
        "For the given dataset naive bayes classification is implemented. Since the data set has both continous and categorical variables we use the two methods available under naive bayes classification problem which are hybrid approach and discretion approach. We obtain the accuracy measure and classification report using both the approaches. The discretion approach is better than the hybrid approach for the given data set as the accuracy score is higher for discretion approach compared to hybrid approach."
      ]
    }
  ],
  "metadata": {
    "kernelspec": {
      "display_name": "Python 3 (ipykernel)",
      "language": "python",
      "name": "python3"
    },
    "language_info": {
      "codemirror_mode": {
        "name": "ipython",
        "version": 3
      },
      "file_extension": ".py",
      "mimetype": "text/x-python",
      "name": "python",
      "nbconvert_exporter": "python",
      "pygments_lexer": "ipython3",
      "version": "3.9.12"
    },
    "colab": {
      "provenance": []
    }
  },
  "nbformat": 4,
  "nbformat_minor": 5
}